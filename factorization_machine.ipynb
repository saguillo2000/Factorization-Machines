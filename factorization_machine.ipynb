{
 "cells": [
  {
   "cell_type": "markdown",
   "metadata": {
    "id": "Dh5vKBMrW27C",
    "tags": [],
    "toc": "true"
   },
   "source": [
    "# Màquines de Factorització"
   ]
  },
  {
   "cell_type": "markdown",
   "metadata": {},
   "source": [
    "\n",
    "En aquest notebook es mostra com aplicar una màquina de factoritzacio a un problema de **classificació**."
   ]
  },
  {
   "cell_type": "code",
   "execution_count": 1,
   "metadata": {
    "id": "wbcM0jOXW27F"
   },
   "outputs": [],
   "source": [
    "import numpy as np\n",
    "import pandas as pd\n",
    "import matplotlib.pyplot as plt\n",
    "from sklearn.metrics import roc_auc_score\n",
    "from sklearn.linear_model import LogisticRegression\n",
    "from sklearn.model_selection import train_test_split\n",
    "from sklearn.feature_extraction.text import TfidfVectorizer"
   ]
  },
  {
   "cell_type": "code",
   "execution_count": 2,
   "metadata": {},
   "outputs": [],
   "source": [
    "import warnings\n",
    "warnings.filterwarnings('ignore')"
   ]
  },
  {
   "cell_type": "markdown",
   "metadata": {
    "id": "gOT2XDR_W27H"
   },
   "source": [
    "Els algorismes coneguts com a **Màquina de Factorització** són una combinació de regressió lineal i factorització matricial orientats a la recomanació d'ítems. "
   ]
  },
  {
   "cell_type": "markdown",
   "metadata": {
    "id": "1qEUJTC7W27H"
   },
   "source": [
    "### Introducció"
   ]
  },
  {
   "cell_type": "markdown",
   "metadata": {
    "id": "jpgXGCcpW27H"
   },
   "source": [
    "Normalment, quan pensem en regressió lineal, pensem en la fórmula següent:\n",
    "\n",
    "\\begin{align}\n",
    "\\hat{y}(\\textbf{x}) = w_{0} + \\sum_{i=1}^{n} w_{i} x_{i}\n",
    "\\end{align}\n",
    "\n",
    "on $w_0$ és el biaix i  $w_i$ són els pesos corresponent a cada característica $x_i$ de les dades, suposant que tenim $n$ característiques en total.\n",
    "\n",
    "L'avantatge d'aquesta fórmula és que és simple i es pot calcular en temps lineal, $O(n)$. L'inconvenient, però, és que no gestiona les interaccions entre les característiques.\n",
    "\n",
    "Per capturar les interaccions, podríem introduir un pes per a cada combinació de dues característiques. El model resultant es mostra a continuació:\n",
    "\n",
    "\\begin{align}\n",
    "\\hat{y}(\\textbf{x}) = w_{0} + \\sum_{i=1}^{n} w_{i} x_{i} +  \\sum_{i=1}^n \\sum_{j=i+1}^n w_{ij} x_{i} x_{j}\n",
    "\\end{align}\n",
    "\n",
    "En comparació amb el nostre model anterior, aquesta formulació té l'avantatge que pot capturar interaccions de característiques almenys per a dues característiques alhora. El problema és que ara hem acabat amb una complexitat $O(n^2)$, la qual cosa significa que per entrenar el model necessitem molt més temps i memòria. \n",
    "\n",
    "Un altre problema és que quan tenim variables categòriques amb una cardinalitat elevada, s'han de codificar amb una estratègia de *one-hot encoding*, i llavors acabaríem amb moltes columnes amb molts zeros, cosa que dificulta la captura de les seves interaccions (no hi ha prou dades).\n",
    "\n",
    "Per resoldre aquest problema de complexitat, les Màquines de Factorització s'inspiren en la factorització de matrius i modelen la interacció de les característiques utilitzant factors latents. \n",
    "\n",
    "Cada característica $x_i$ té un factor latent corresponent $\\textbf{v}_i$, i les interaccions de dues característiques es modelen com $\\langle \\textbf{v}_i , \\textbf{v}_{j} \\rangle$, on $\\langle \\cdot,\\cdot \\rangle$ fa referència al producte escalar dels vectors de característiques. \n",
    "\n",
    "Si suposem que els vectors són de mida $k$ (aquest és un hiperparàmetre que podem ajustar). Llavors:\n",
    "\n",
    "\\begin{align}\n",
    "\\langle \\textbf{v}_i , \\textbf{v}_{j} \\rangle = \\sum_{f=1}^k v_{i,f} v_{j,f}\n",
    "\\end{align}\n",
    "\n",
    "Com a resultat de tot això tenim:\n",
    "\n",
    "\\begin{align}\n",
    "\\hat{y}(\\textbf{x}) = w_{0} + \\sum_{i=1}^{n} w_{i} x_{i} + \\sum_{i=1}^{n} \\sum_{j=i+1}^n \\langle \\textbf{v}_i , \\textbf{v}_{j} \\rangle x_i x_{j}\n",
    "\\end{align}\n",
    "\n",
    "Això és una millora respecte al nostre model anterior ja que el nombre de paràmetres es redueix de $n^2$ a $n \\times k$ , ja que $k < n$, que també ajuda a mitigar els problemes de sobreajust. \n",
    "\n",
    "L'ús de la manera ingènua de formular la màquina de factorització dóna com a resultat una complexitat de $O(k n^2)$, perquè s'han de calcular totes les interaccions per parelles, però podem reformular-les perquè s'executi en $O(kn)$ . \n",
    "\n",
    "\n",
    "\\begin{align}\n",
    "\\sum_{i=1}^n \\sum_{j=i+1}^n \\langle \\textbf{v}_i, \\textbf{v}_{j} \\rangle x_{i} x_{j}\n",
    "&= \\frac{1}{2} \\sum_{i=1}^n \\sum_{j=1}^n \\langle \\textbf{v}_i, \\textbf{v}_{j} \\rangle x_{i} x_{j} - \\frac{1}{2} \\sum_{i=1}^n \\langle \\textbf{v}_i , \\textbf{v}_{i} \\rangle x_{i} x_{i}  \\\\\n",
    "&= \\frac{1}{2}\\left(\\sum_{i=1}^n \\sum_{j=1}^n \\sum_{f=1}^k v_{i,f} v_{j,f} x_{i} x_{j} \\right)\\frac{1}{2}\\left( \\sum_{i=1}^n \\sum_{f=1}^k v_{i,f} v_{i,f} x_{i} x_{i} \\right) \\\\\n",
    "&= \\frac{1}{2}\\left(\\sum_{i=1}^n \\sum_{j=1}^n \\sum_{f=1}^k v_{i,f} v_{j,f} x_{i} x_{j}  -  \\sum_{i=1}^n \\sum_{f=1}^k v_{i,f} v_{i,f} x_{i} x_{i} \\right) \\\\\n",
    "&= \\frac{1}{2} \\sum_{f=1}^{k} \\left( \\left(\\sum_{i=1}^n v_{i,f}x_{i} \\right) \\left( \\sum_{j=1}^n v_{j,f}x_{j} \\right) - \\sum_{i=1}^{n} v_{i,f}^2 x_{i}^2 \\right) \\\\\n",
    "&= \\frac{1}{2} \\sum_{f=1}^{k} \\left( \\left( \\sum_{i}^{n} v_{i,f}x_{i} \\right)^2  - \\sum_{i=1}^{n} v_{i,f}^2 x_{i}^2 \\right)\n",
    "\\end{align}\n",
    "\n",
    "Tingueu en compte que sumar diferents parells és el mateix que sumar tots els parells menys les autointeraccions (dividit per dos). Aquesta és la raó per la qual s'introdueix el valor 1/2 des de l'inici de la derivació.\n",
    "\n",
    "Aquesta equació reformulada té una complexitat lineal tant en $k$ com en $n$, és a dir, el seu càlcul és en $O(kn)$, substituint aquesta nova equació a la fórmula de la màquina de factorització existent, acabem amb:\n",
    "\n",
    "\\begin{align}\n",
    "\\hat{y}(\\textbf{x}) = w_{0} + \\sum_{i=1}^{n} w_{i} x_{i} + \\frac{1}{2} \\sum_{f=1}^{k} \\left( \\left( \\sum_{i}^{n} v_{i,f}x_{i} \\right)^2  - \\sum_{i=1}^{n} v_{i,f}^2 x_{i}^2 \\right)\n",
    "\\end{align}"
   ]
  },
  {
   "cell_type": "markdown",
   "metadata": {
    "id": "c50rENnrW27J"
   },
   "source": [
    "La màquina de factorització es pot aplicar a diferents tasques de predicció (a més a més de la recomanació que hem vist a classe):\n",
    "\n",
    "- **Regressió:**, en aquest cas $\\hat{y}(\\textbf{x})$ es pot utilitzar directament minimitzant l'error quadrat mitjà entre la predicció del model i el valor objectiu, p. $\\frac{1}{N}\\sum^{N}\\big(y - \\hat{y}(\\textbf{x})\\big)^2$\n",
    "- **Classificació:**, si l'utilitzem en una configuració de classificació binària, podríem minimitzar la pèrdua, $\\ln \\big(e^{-y \\cdot \\hat{y}(\\textbf{ x})} + 1 \\big)$, on $\\sigma$ és la funció sigmoide/logística.\n",
    "\n",
    "Per entrenar la màquina de factorització, podem utilitzar tècniques d'optimització basades en **descens del gradient**, i llavors els paràmetres a aprendre són $(w_0, \\mathbf{w},$ i $\\mathbf{V}$).\n",
    "\n",
    "\\begin{align}\n",
    "\\frac{\\partial}{\\partial\\theta}\\hat{y}(\\textbf{x}) =\n",
    "\\begin{cases}\n",
    "1,  & \\text{if $\\theta$ is $w_0$} \\\\\n",
    "x_i, & \\text{if $\\theta$ is $w_i$} \\\\\n",
    "x_i\\sum_{j=1}^{n} v_{j,f}x_j - v_{i,f}x_{i}^2 & \\text{if $\\theta$ is $v_{i,f}$}\n",
    "\\end{cases}\n",
    "\\end{align}\n",
    "\n",
    "- Observeu que $\\sum_{j=1}^n v_{j, f} x_j$ no depèn de $i$, per tant es pot calcular independentment.\n",
    "- L'última fórmula anterior també es pot escriure com $x_i(\\sum_{j=1}^{n} v_{j,f}x_j - v_{i,f}x_{i})$.\n",
    "\n",
    "Com que la secció següent conté la implementació de l'algorisme des de zero, aquí també es proporciona el gradient de la funció de pèrdua. El valor previst $\\hat{y}(\\textbf{x})$ es substitueix per $x$ per fer la notació més neta.\n",
    "\n",
    "\n",
    "\\begin{align}\n",
    "\\frac{d}{dx}\\left[ \\ln \\big(e^{-yx} + 1 \\big) \\right] \n",
    "&= \\frac{1}{e^{-yx} + 1} \\cdot  \\frac{d}{dx}\\left[e^{-yx} + 1 \\right] \\\\\n",
    "&= \\frac{\\frac{d}{dx}\\left[e^{-yx} \\right] + \\frac{d}{dx}\\left[1 \\right]}{e^{-yx} + 1} \\\\\n",
    "&= \\frac{e^{-yx} \\cdot \\frac{d}{dx}\\left[-yx \\right] + 0}{e^{-yx} + 1} \\\\\n",
    "&= \\frac{e^{-yx} \\cdot -y}{e^{-yx} + 1} \\\\\n",
    "&= -\\frac{ye^{-yx}}{e^{-yx} + 1} \\\\\n",
    "&= -\\frac{y}{e^{yx} + 1}\n",
    "\\end{align}"
   ]
  },
  {
   "cell_type": "markdown",
   "metadata": {
    "id": "D3jYuTRBW27K"
   },
   "source": [
    "### Implementació d'un classificador fent servir màquines de factorització.\n",
    "\n",
    "El problema de classificació que considerarem és el de classificar e-mails com a `spam` o `no-spam`. \n",
    "\n",
    "Farem servir un dataset de *spam* en anglès: `sms.tsv` i un model $\\mbox{tf-idf}$ per codificar el text dels missatges i convertir-lo en un vector de valors reals."
   ]
  },
  {
   "cell_type": "code",
   "execution_count": 3,
   "metadata": {
    "colab": {
     "base_uri": "https://localhost:8080/",
     "height": 235
    },
    "id": "ICltDN7gW27L",
    "outputId": "42f3002b-d7ab-4a52-9eb9-d04d972cf169"
   },
   "outputs": [
    {
     "name": "stdout",
     "output_type": "stream",
     "text": [
      "Exemple negatiu:  -1 : I'm gonna be home soon and i don't want to talk about this stuff anymore tonight, k? I've cried enough today.\n",
      "Exemple positiu:  1 : Free entry in 2 a wkly comp to win FA Cup final tkts 21st May 2005. Text FA to 87121 to receive entry question(std txt rate)T&C's apply 08452810075over18's\n"
     ]
    }
   ],
   "source": [
    "label_col = 'label_num'\n",
    "sms = pd.read_table('sms.tsv', header = None, names = ['label', 'message'])\n",
    "sms[label_col] = sms['label'].map({'ham': -1, 'spam': 1}) # Change the 'ham' to -1 is to test exercise 4\n",
    "X = sms['message']\n",
    "y = sms[label_col].values\n",
    "print('Exemple negatiu: ',y[10],':',X[10])\n",
    "print('Exemple positiu: ',y[2],':',X[2])"
   ]
  },
  {
   "cell_type": "code",
   "execution_count": 4,
   "metadata": {},
   "outputs": [
    {
     "name": "stdout",
     "output_type": "stream",
     "text": [
      "Nombre d'exemples al conjunt de training:  4179\n",
      "Nombre total de paraules                :  51261\n",
      "Nombre de paraules diferents            :  3508\n"
     ]
    }
   ],
   "source": [
    "# creació dels conjunts d'aprenentatge\n",
    "X_train, X_test, y_train, y_test = train_test_split(\n",
    "    X, y, test_size = 0.25, random_state = 1)\n",
    "print(\"Nombre d'exemples al conjunt de training: \",X_train.size)\n",
    "\n",
    "# codificació de les dades\n",
    "tfidf = TfidfVectorizer(min_df = 2, max_df = 0.5)\n",
    "X_train_dtm = tfidf.fit_transform(X_train)\n",
    "X_test_dtm = tfidf.transform(X_test)\n",
    "\n",
    "print(\"Nombre total de paraules                : \",X_train_dtm.size)\n",
    "print(\"Nombre de paraules diferents            : \",X_train_dtm.shape[1])"
   ]
  },
  {
   "cell_type": "code",
   "execution_count": 13,
   "metadata": {},
   "outputs": [],
   "source": [
    "import math  # Important execrice 2.5"
   ]
  },
  {
   "cell_type": "code",
   "execution_count": 26,
   "metadata": {
    "id": "72yZWV3_W27L",
    "tags": []
   },
   "outputs": [],
   "source": [
    "import numpy as np\n",
    "from tqdm import trange\n",
    "from sklearn.base import BaseEstimator, ClassifierMixin\n",
    "\n",
    "class FactorizationMachineClassifier(BaseEstimator, ClassifierMixin):\n",
    "    \"\"\"\n",
    "    Màquina de factorització amb descens estocàstic del gradient.\n",
    "    Funciona per classificació binaria només.\n",
    "\n",
    "    Parametres\n",
    "    ----------\n",
    "    n_iter : int, default 10\n",
    "        Nombre d'iteracions per entrenar l'algorisme.\n",
    "\n",
    "    n_factors : int, default 10\n",
    "        Nombre/dimensió dels factors latents de les característiques.\n",
    "\n",
    "    learning_rate : float, default 0.1\n",
    "        Taxa d'aprenentatge per a l'optimitzador de descens de gradients.\n",
    "\n",
    "    reg_coef : float, default 0.01\n",
    "        Pes de regularització de pesos/coeficients.\n",
    "\n",
    "    reg_factors : float, default 0.01\n",
    "        Pes de regularització dels factors latents de les característiques.\n",
    "\n",
    "    random_state : int, default 1234\n",
    "        Llavor per als valors inicials dels factors latents\n",
    "\n",
    "    verbose : bool, default True\n",
    "        Si s'ha d'imprimir la barra de progrés durant l'entrenament.\n",
    "\n",
    "    Atributs\n",
    "    ----------\n",
    "    intercept_ : double\n",
    "        Terme d'intercepció, w0 en la notació que fem servir.\n",
    "\n",
    "    coef_ : 1d ndarray, shape [n_features,]\n",
    "        Coeficients, w en la notació que fem servir.\n",
    "\n",
    "    feature_factors_ : 2d ndarray, shape [n_factors, n_features]\n",
    "        Factors latents per a totes les característiques. \n",
    "        v en la notació que fem servir. \n",
    "        Si un parell de característiques tendeixen\n",
    "        per coexistir sovint, llavors les seves v haurien de ser\n",
    "        properes/semblants (en termes de similitud de cosinus) entre si.\n",
    "\n",
    "    history_ : list\n",
    "        Historial de la funció de pèrdua a cada iteració, útil\n",
    "        per avaluar si l'algorisme va convergir o no.\n",
    "\n",
    "    \"\"\"\n",
    "\n",
    "    def __init__(self, n_iter = 10, n_factors = 10,\n",
    "                 learning_rate = 0.1, reg_coef = 0.01,\n",
    "                 reg_factors = 0.01, random_state = 1234, verbose = True):\n",
    "        self.n_iter = n_iter\n",
    "        self.verbose = verbose\n",
    "        self.reg_coef = reg_coef\n",
    "        self.n_factors = n_factors\n",
    "        self.reg_factors = reg_factors\n",
    "        self.random_state = random_state\n",
    "        self.learning_rate = learning_rate\n",
    "\n",
    "    def fit(self, X, y):\n",
    "        \"\"\"\n",
    "        Fit the model to the input data and label.\n",
    "\n",
    "        Parameters\n",
    "        ----------\n",
    "        X : scipy sparse csr_matrix, shape [n_samples, n_features]\n",
    "            Data in sparse matrix format.\n",
    "\n",
    "        y : 1d ndarray, shape [n_samples,]\n",
    "            Training data's corresponding label.\n",
    "\n",
    "        Returns\n",
    "        -------\n",
    "        self\n",
    "        \"\"\"\n",
    "\n",
    "        n_samples, n_features = X.shape\n",
    "        self.coef_ = np.zeros(n_features)\n",
    "        self.intercept_ = 0.0\n",
    "\n",
    "         # els factors s'inicien amb una mitjana de 0 i una desviació estàndard\n",
    "         # d'1/sqrt \n",
    "        np.random.seed(self.random_state)\n",
    "        self.feature_factors_ = np.random.normal(\n",
    "            scale = 1 / np.sqrt(self.n_factors), size = (self.n_factors, n_features))\n",
    "        \n",
    "         # el gradient s'implementa d'una manera que requereix\n",
    "         # la classe negativa etiquetada com a -1 en lloc de 0 \n",
    "        y = y.copy().astype(np.int32)\n",
    "        y[y == 0] = -1 # Nos afirma que en clase de tener clases con 0 sean -1 para la optimización\n",
    "\n",
    "        loop = range(self.n_iter)\n",
    "        if self.verbose:\n",
    "            loop = trange(self.n_iter)\n",
    "\n",
    "        self.history_ = []\n",
    "        self.similarity = []\n",
    "        \n",
    "        min_value = 99999\n",
    "        max_value = -1\n",
    "        for _ in loop:\n",
    "            loss, self.intercept_ = _sgd_update(X.data, X.indptr, X.indices,\n",
    "                               y, n_samples, n_features,\n",
    "                               self.intercept_, self.coef_,\n",
    "                               self.feature_factors_, self.n_factors,\n",
    "                               self.learning_rate, self.reg_coef, self.reg_factors)\n",
    "            if loss < min_value:\n",
    "                min_value = loss\n",
    "            \n",
    "            if loss > max_value:\n",
    "                max_value = loss\n",
    "                \n",
    "            self.history_.append(loss)\n",
    "            \n",
    "            # Exercise 2.3\n",
    "            pred_y = self.predict(X)\n",
    "            pred_y[pred_y == 0] = -1\n",
    "            self.similarity.append(np.sum(pred_y == y))\n",
    "\n",
    "        print('Minimum function value: ', min_value)\n",
    "        print('Maximum function value: ', max_value)\n",
    "        return self\n",
    "\n",
    "    def predict_proba(self, X):\n",
    "        \"\"\"\n",
    "         Estimacions de probabilitat. Les estimacions retornades per\n",
    "         totes les classes estan ordenades per l'etiqueta de classes.\n",
    "\n",
    "         Paràmetres\n",
    "        ---------\n",
    "        X : scipy sparse csr_matrix, shape [n_samples, n_features]\n",
    "            Dades en format de matriu dispersa.\n",
    "\n",
    "        Returns\n",
    "        -------\n",
    "        proba : 2d ndarray, shape [n_samples, n_classes]\n",
    "            La probabilitat de la mostra per a cada classe del model.\n",
    "        \"\"\"\n",
    "        pred = self._predict(X)\n",
    "        pred_proba = 1.0 / (1.0 + np.exp(-pred))\n",
    "        proba = np.vstack((1 - pred_proba, pred_proba)).T\n",
    "        return proba\n",
    "\n",
    "    def _predict(self, X):\n",
    "        \"\"\"Similar a _predict_instance però vectoritzat per a totes les mostres\"\"\"\n",
    "        linear_output = X * self.coef_\n",
    "        v = self.feature_factors_.T\n",
    "        term = (X * v) ** 2 - (X.power(2) * (v ** 2))\n",
    "        factor_output = 0.5 * np.sum(term, axis = 1)\n",
    "        return self.intercept_ + linear_output + factor_output\n",
    "\n",
    "    def predict(self, X):\n",
    "        \"\"\"\n",
    "        Prediu les etiquetes de classe per a mostres a X.\n",
    "\n",
    "        Parametres\n",
    "        ----------\n",
    "        X : scipy sparse csr_matrix, shape [n_samples, n_features]\n",
    "            Dades en format de matriu dispersa.\n",
    "\n",
    "        Returns\n",
    "        -------\n",
    "        Etiqueta de la classe predita per cada mostra.\n",
    "        \"\"\"\n",
    "        pred_proba = self.predict_proba(X)[:, 1]\n",
    "        return pred_proba.round().astype(np.int)\n",
    "\n",
    "\n",
    "def _sgd_update(data, indptr, indices, y, n_samples, n_features,\n",
    "                w0, w, v, n_factors, learning_rate, reg_w, reg_v):\n",
    "    \"\"\"\n",
    "     Calcula el valor de la pèrdua de la iteració actual i actualitza\n",
    "     els paràmetres amb els gradients.\n",
    "    \"\"\"\n",
    "    loss = 0.0\n",
    "    \n",
    "    for i in range(n_samples):\n",
    "        pred, summed = _predict_instance(data, indptr, indices, w0, w, v, n_factors, i)\n",
    "        # calcula la pèrdua i el seu gradient\n",
    "        loss += _log_loss(pred, y[i])\n",
    "        loss_gradient = -y[i] / (np.exp(y[i] * pred) + 1.0)\n",
    "    \n",
    "        # actualització el terme de biaix\n",
    "        w0 -= learning_rate * loss_gradient\n",
    "\n",
    "        # actualització els pesos\n",
    "        for index in range(indptr[i], indptr[i + 1]):\n",
    "            feature = indices[index]\n",
    "            w[feature] -= learning_rate * (loss_gradient * data[index] + 2 * reg_w * w[feature])\n",
    "\n",
    "        for factor in range(n_factors):\n",
    "            for index in range(indptr[i], indptr[i + 1]):\n",
    "                feature = indices[index]\n",
    "                term = summed[factor] - v[factor, feature] * data[index]\n",
    "                v_gradient = loss_gradient * data[index] * term\n",
    "                v[factor, feature] -= learning_rate * (v_gradient + 2 * reg_v * v[factor, feature])\n",
    "    \n",
    "    loss /= n_samples\n",
    "    return loss, w0\n",
    "\n",
    "\n",
    "def _predict_instance(data, indptr, indices, w0, w, v, n_factors, i):\n",
    "    \"\"\"prediu una mostra\"\"\"\n",
    "    summed = np.zeros(n_factors)\n",
    "    summed_squared = np.zeros(n_factors)\n",
    "\n",
    "    # w * x\n",
    "    pred = w0\n",
    "    for index in range(indptr[i], indptr[i + 1]):\n",
    "        feature = indices[index]\n",
    "        pred += w[feature] * data[index]\n",
    "\n",
    "    for factor in range(n_factors):\n",
    "        for index in range(indptr[i], indptr[i + 1]):\n",
    "            feature = indices[index]\n",
    "            term = v[factor, feature] * data[index]\n",
    "            summed[factor] += term\n",
    "            summed_squared[factor] += term * term\n",
    "\n",
    "        pred += 0.5 * (summed[factor] * summed[factor] - summed_squared[factor])\n",
    "    pred = pred\n",
    "    # print(pred)\n",
    "    return pred, summed\n",
    "\n",
    "\n",
    "def _log_loss(pred, y):\n",
    "    \"\"\"\n",
    "    funció de pèrdua\n",
    "    \"\"\"\n",
    "    return np.log(np.exp(-pred * y) + 1.0)"
   ]
  },
  {
   "cell_type": "code",
   "execution_count": 27,
   "metadata": {
    "id": "l6BJiLK7W27N",
    "outputId": "b26ce8bd-efa3-4150-cb7a-28005a5f5370"
   },
   "outputs": [
    {
     "name": "stderr",
     "output_type": "stream",
     "text": [
      "100%|██████████████████████████████████████████████████████████████████████████████████| 50/50 [01:26<00:00,  1.73s/it]"
     ]
    },
    {
     "name": "stdout",
     "output_type": "stream",
     "text": [
      "Minimum function value:  0.02336011110474538\n",
      "Maximum function value:  0.31891614127958956\n"
     ]
    },
    {
     "name": "stderr",
     "output_type": "stream",
     "text": [
      "\n"
     ]
    },
    {
     "data": {
      "text/plain": [
       "FactorizationMachineClassifier(n_iter=50)"
      ]
     },
     "execution_count": 27,
     "metadata": {},
     "output_type": "execute_result"
    }
   ],
   "source": [
    "fm = FactorizationMachineClassifier(n_iter = 50, learning_rate = 0.1)\n",
    "fm.fit(X_train_dtm, y_train)"
   ]
  },
  {
   "cell_type": "code",
   "execution_count": 28,
   "metadata": {},
   "outputs": [
    {
     "data": {
      "text/plain": [
       "0.02336011110474538"
      ]
     },
     "execution_count": 28,
     "metadata": {},
     "output_type": "execute_result"
    }
   ],
   "source": [
    "fm.history_[49]"
   ]
  },
  {
   "cell_type": "code",
   "execution_count": 29,
   "metadata": {
    "id": "8Z6TTodJW27P",
    "outputId": "dd207fbd-a98e-4b7e-e28d-65b5e55393e6"
   },
   "outputs": [
    {
     "data": {
      "image/png": "[encoded data removed]",
      "text/plain": [
       "<Figure size 800x600 with 1 Axes>"
      ]
     },
     "metadata": {},
     "output_type": "display_data"
    }
   ],
   "source": [
    "plt.rcParams['figure.figsize'] = 8, 6\n",
    "plt.rcParams['font.size'] = 12\n",
    "\n",
    "plt.plot(fm.history_)\n",
    "plt.title('Loss Curve Per Iteration')\n",
    "plt.xlabel('Iterations')\n",
    "plt.ylabel('Loss')\n",
    "plt.show()"
   ]
  },
  {
   "cell_type": "code",
   "execution_count": 9,
   "metadata": {
    "id": "PdG8EfFnW27Q",
    "outputId": "675732a9-516b-4541-e521-d5f99f780964"
   },
   "outputs": [
    {
     "name": "stdout",
     "output_type": "stream",
     "text": [
      "AUC 0.9976507964918561\n"
     ]
    }
   ],
   "source": [
    "# predicció del conjunt de tets i càlcul de l'\"auc score\"\n",
    "y_pred_prob = fm.predict_proba(X_test_dtm)[:, 1]\n",
    "auc = roc_auc_score(y_test, y_pred_prob)\n",
    "print('AUC', auc)"
   ]
  },
  {
   "cell_type": "markdown",
   "metadata": {
    "id": "9T-0wPrNW27R"
   },
   "source": [
    "### Bibliografia\n",
    "\n",
    "- [Blog: Factorization Machines](http://www.jefkine.com/recsys/2017/03/27/factorization-machines/)\n"
   ]
  },
  {
   "cell_type": "markdown",
   "metadata": {},
   "source": [
    "## Exercici\n",
    "\n",
    "Contesta "
   ]
  },
  {
   "cell_type": "markdown",
   "metadata": {},
   "source": [
    "1. Quan reportem la qualitat del classificador fem servir l'*AUC score*. Explica què és i proposa una implementació en Python que substituexi la funció `roc_auc_score` que hi ha al codi. \n",
    "\n",
    "Pots consultar qualsevol referència. Per exemple: https://www.analyticsvidhya.com/blog/2020/06/auc-roc-curve-machine-learning/"
   ]
  },
  {
   "cell_type": "markdown",
   "metadata": {},
   "source": [
    "*Escriu la teva resposta aquí*: \n",
    "\n",
    "Per entendre que és el AUC score, primer haurem de donar les següents definicions:\n",
    "\n",
    "1. True Positive Rate (TPR) / Recall es defineix com: True Positives / (True Positives + False Negatives)\n",
    "2. False Positive Rate (FPR) es el ratio de les instàncies que es classifiquen de forma incorrecta com a postives. Es defineix com: 1 - TNR, on TNR o *Specifity* es defineix com: True Negatives / (True Negatives + False Positives)\n",
    "3. Reciever Operating Characteristic (ROC) es un plot de TPR entre FPR, utilitzat per classificadors binaris. La idea d'aquesta eina és principalment per veure quin *threshold* ens dona millor resultats. Això es pot saber ja que es comparan entre ells. \n",
    "\n",
    "<img src=\"img/ROC_curve.JPG\" width=\"600\">\n",
    "\n",
    "Per últim, definim Area Under the curve (AUC) score, com diu el nom, calculem l'area que trobem en una ROC curve d'un classificador binari. Els valors que ens donará seran de entre 1.0, que serà un classificador perfecte, o 0.5, que serà un classificador purament random.\n",
    "\n",
    "<img src=\"img/ROC_curve_comaprison.JPG\" width=\"600\">\n",
    "\n",
    "Com podem veure, la regressió logística es millor model que el KNN. Per tant, la métrica que faríem servir sería el AUC score. "
   ]
  },
  {
   "cell_type": "code",
   "execution_count": 10,
   "metadata": {},
   "outputs": [],
   "source": [
    "from sklearn.metrics import roc_curve\n",
    "\n",
    "def compute_area_under_curve_binary(y_test, y_pred_prob):\n",
    "    \n",
    "    fpr, tpr, _ = roc_curve(y_test, y_pred_prob)\n",
    "    \n",
    "    # Change integration method Trapez\n",
    "    direction = 1\n",
    "    dx = np.diff(fpr)\n",
    "    if np.any(dx < 0):\n",
    "        if np.all(dx <= 0):\n",
    "            direction = -1\n",
    "\n",
    "    area = direction * np.trapz(tpr, fpr)\n",
    "    if isinstance(area, np.memmap):\n",
    "        area = area.dtype.type(area)\n",
    "    return area\n",
    "    "
   ]
  },
  {
   "cell_type": "code",
   "execution_count": 11,
   "metadata": {},
   "outputs": [
    {
     "name": "stdout",
     "output_type": "stream",
     "text": [
      "AUC proposed 0.9976507964918561\n"
     ]
    }
   ],
   "source": [
    "binary_auc = compute_area_under_curve_binary(y_test, y_pred_prob)\n",
    "print('AUC proposed', binary_auc)"
   ]
  },
  {
   "cell_type": "markdown",
   "metadata": {},
   "source": [
    "# Pregunta 2"
   ]
  },
  {
   "cell_type": "markdown",
   "metadata": {},
   "source": [
    "2. Hem aplicat la funció de pèrdua que fem servir, $\\frac{1}{N} \\sum_{i=1}^N\\log \\big(e^{-y_i \\cdot \\hat{y}(\\textbf{x}_i)} + 1 \\big)$, a dades etiquetades amb $y \\in \\{-1, 1\\}$. \n",
    "+ Comprova que aquesta funció realment es minimitza quan les etiquetes i les prediccions coincideixen. Per fer-ho, pots fer una gràfica que mostri els seus valors a mesura que la semblança entre $y$ i $\\hat{y} (\\textbf{ x})$ va creixent. \n",
    "+ Si les dades estéssin etiquetades amb $y \\in \\{0, 1\\}$ funcionaria? Justifica la resposta.\n",
    "+ Quin és el valor mínim i màxim que pot tenir la funció de pèrdua? Normalitza el valor en funció del nombre de dades del dataset. "
   ]
  },
  {
   "cell_type": "markdown",
   "metadata": {},
   "source": [
    "*Escriu la teva resposta aquí*: "
   ]
  },
  {
   "cell_type": "code",
   "execution_count": 33,
   "metadata": {},
   "outputs": [
    {
     "data": {
      "image/png": "[encoded data removed]",
      "text/plain": [
       "<Figure size 800x600 with 1 Axes>"
      ]
     },
     "metadata": {},
     "output_type": "display_data"
    }
   ],
   "source": [
    "#Exercise 3 (modification in fit)\n",
    "def similiarity_labels(fm):\n",
    "    plt.rcParams['figure.figsize'] = 8, 6\n",
    "    plt.rcParams['font.size'] = 12\n",
    "\n",
    "    plt.plot(fm.similarity)\n",
    "    plt.title('Similarity Per Iteration')\n",
    "    plt.xlabel('Iterations')\n",
    "    plt.ylabel('Similiarity predict and true label')\n",
    "    plt.show()\n",
    "\n",
    "similiarity_labels(fm)"
   ]
  },
  {
   "cell_type": "markdown",
   "metadata": {},
   "source": [
    "**Exercici 4:**\n",
    "\n",
    "En el cas de que les dades estiguessin de $\\{0, 1\\}$, el codi compilaría. El problema és que no optimitzariem els pessos degudament per les clases representades pel 0. Això és degut a que la nostra funció de cost és exponencial i, al fer la derivada quan tením la clase 0, obtindrem un gradient on no hi ha una direcció a optimitzar, ja que 0/2 = 0. Per aquesta raó, s'utilitzen funcions de pèrdua logarítmiques per $\\{0, 1\\}$ i exponencials per $\\{-1, 1\\}$."
   ]
  },
  {
   "cell_type": "markdown",
   "metadata": {},
   "source": [
    "**Exercici 5:**\n",
    "\n",
    "Els valors mínim i máxim de la funció de pèrdua $\\frac{1}{N} \\sum_{i=1}^N\\log \\big(e^{-y_i \\cdot \\hat{y}(\\textbf{x}_i)} + 1 \\big)$, amb domini $(0, +\\infty)$, tendeixen als valors d'aquest domini. Per lo tant, el mínim teóric sería el propi mínim del domini de la funció i el máxim, l'infinit. Per normalitzar-ho, com se'ns demana en aquest exercici, haurem d'acotar el valor que retorla la funció de predicció i que utilitzen per entranar el model. Al tractar-se d'un problema de classsificació binaría entre spam i no spam de correus, també es podría veure com un análisis del sentiment dels textos que estem processant. Per aquesta raó utilitzaré $\\tanh$, ja que el domini será de $(-1, 1)$, on $-1$ indica que será spam i $1$ no spam. En cas de trobar-se en el $0$, es considedarará neutre, ja que podría tenir característiques de les dues."
   ]
  },
  {
   "cell_type": "code",
   "execution_count": 39,
   "metadata": {},
   "outputs": [],
   "source": [
    "class FactorizationMachineClassifierNormalized(BaseEstimator, ClassifierMixin):\n",
    "    \"\"\"\n",
    "    Màquina de factorització amb descens estocàstic del gradient.\n",
    "    Funciona per classificació binaria només.\n",
    "\n",
    "    Parametres\n",
    "    ----------\n",
    "    n_iter : int, default 10\n",
    "        Nombre d'iteracions per entrenar l'algorisme.\n",
    "\n",
    "    n_factors : int, default 10\n",
    "        Nombre/dimensió dels factors latents de les característiques.\n",
    "\n",
    "    learning_rate : float, default 0.1\n",
    "        Taxa d'aprenentatge per a l'optimitzador de descens de gradients.\n",
    "\n",
    "    reg_coef : float, default 0.01\n",
    "        Pes de regularització de pesos/coeficients.\n",
    "\n",
    "    reg_factors : float, default 0.01\n",
    "        Pes de regularització dels factors latents de les característiques.\n",
    "\n",
    "    random_state : int, default 1234\n",
    "        Llavor per als valors inicials dels factors latents\n",
    "\n",
    "    verbose : bool, default True\n",
    "        Si s'ha d'imprimir la barra de progrés durant l'entrenament.\n",
    "\n",
    "    Atributs\n",
    "    ----------\n",
    "    intercept_ : double\n",
    "        Terme d'intercepció, w0 en la notació que fem servir.\n",
    "\n",
    "    coef_ : 1d ndarray, shape [n_features,]\n",
    "        Coeficients, w en la notació que fem servir.\n",
    "\n",
    "    feature_factors_ : 2d ndarray, shape [n_factors, n_features]\n",
    "        Factors latents per a totes les característiques. \n",
    "        v en la notació que fem servir. \n",
    "        Si un parell de característiques tendeixen\n",
    "        per coexistir sovint, llavors les seves v haurien de ser\n",
    "        properes/semblants (en termes de similitud de cosinus) entre si.\n",
    "\n",
    "    history_ : list\n",
    "        Historial de la funció de pèrdua a cada iteració, útil\n",
    "        per avaluar si l'algorisme va convergir o no.\n",
    "\n",
    "    \"\"\"\n",
    "\n",
    "    def __init__(self, n_iter = 10, n_factors = 10,\n",
    "                 learning_rate = 0.1, reg_coef = 0.01,\n",
    "                 reg_factors = 0.01, random_state = 1234, verbose = True):\n",
    "        self.n_iter = n_iter\n",
    "        self.verbose = verbose\n",
    "        self.reg_coef = reg_coef\n",
    "        self.n_factors = n_factors\n",
    "        self.reg_factors = reg_factors\n",
    "        self.random_state = random_state\n",
    "        self.learning_rate = learning_rate\n",
    "\n",
    "    def fit(self, X, y):\n",
    "        \"\"\"\n",
    "        Fit the model to the input data and label.\n",
    "\n",
    "        Parameters\n",
    "        ----------\n",
    "        X : scipy sparse csr_matrix, shape [n_samples, n_features]\n",
    "            Data in sparse matrix format.\n",
    "\n",
    "        y : 1d ndarray, shape [n_samples,]\n",
    "            Training data's corresponding label.\n",
    "\n",
    "        Returns\n",
    "        -------\n",
    "        self\n",
    "        \"\"\"\n",
    "\n",
    "        n_samples, n_features = X.shape\n",
    "        self.coef_ = np.zeros(n_features)\n",
    "        self.intercept_ = 0.0\n",
    "\n",
    "         # els factors s'inicien amb una mitjana de 0 i una desviació estàndard\n",
    "         # d'1/sqrt \n",
    "        np.random.seed(self.random_state)\n",
    "        self.feature_factors_ = np.random.normal(\n",
    "            scale = 1 / np.sqrt(self.n_factors), size = (self.n_factors, n_features))\n",
    "        \n",
    "         # el gradient s'implementa d'una manera que requereix\n",
    "         # la classe negativa etiquetada com a -1 en lloc de 0 \n",
    "        y = y.copy().astype(np.int32)\n",
    "        y[y == 0] = -1 # Nos afirma que en clase de tener clases con 0 sean -1 para la optimización\n",
    "\n",
    "        loop = range(self.n_iter)\n",
    "        if self.verbose:\n",
    "            loop = trange(self.n_iter)\n",
    "\n",
    "        self.history_ = []\n",
    "        self.similarity = []\n",
    "        \n",
    "        for _ in loop:\n",
    "            loss, self.intercept_ = _sgd_update(X.data, X.indptr, X.indices,\n",
    "                               y, n_samples, n_features,\n",
    "                               self.intercept_, self.coef_,\n",
    "                               self.feature_factors_, self.n_factors,\n",
    "                               self.learning_rate, self.reg_coef, self.reg_factors)\n",
    "\n",
    "            self.history_.append(loss)\n",
    "            \n",
    "            # Exercise 2.3\n",
    "            pred_y = self.predict(X)\n",
    "            pred_y[pred_y == 0] = -1\n",
    "            self.similarity.append(np.sum(pred_y == y))\n",
    "\n",
    "        return self\n",
    "\n",
    "    def predict_proba(self, X):\n",
    "        \"\"\"\n",
    "         Estimacions de probabilitat. Les estimacions retornades per\n",
    "         totes les classes estan ordenades per l'etiqueta de classes.\n",
    "\n",
    "         Paràmetres\n",
    "        ---------\n",
    "        X : scipy sparse csr_matrix, shape [n_samples, n_features]\n",
    "            Dades en format de matriu dispersa.\n",
    "\n",
    "        Returns\n",
    "        -------\n",
    "        proba : 2d ndarray, shape [n_samples, n_classes]\n",
    "            La probabilitat de la mostra per a cada classe del model.\n",
    "        \"\"\"\n",
    "        pred = self._predict(X)\n",
    "        pred_proba = 1.0 / (1.0 + np.exp(-pred))\n",
    "        proba = np.vstack((1 - pred_proba, pred_proba)).T\n",
    "        return proba\n",
    "\n",
    "    def _predict(self, X):\n",
    "        \"\"\"Similar a _predict_instance però vectoritzat per a totes les mostres\"\"\"\n",
    "        linear_output = X * self.coef_\n",
    "        v = self.feature_factors_.T\n",
    "        term = (X * v) ** 2 - (X.power(2) * (v ** 2))\n",
    "        factor_output = 0.5 * np.sum(term, axis = 1)\n",
    "        return self.intercept_ + linear_output + factor_output\n",
    "\n",
    "    def predict(self, X):\n",
    "        \"\"\"\n",
    "        Prediu les etiquetes de classe per a mostres a X.\n",
    "\n",
    "        Parametres\n",
    "        ----------\n",
    "        X : scipy sparse csr_matrix, shape [n_samples, n_features]\n",
    "            Dades en format de matriu dispersa.\n",
    "\n",
    "        Returns\n",
    "        -------\n",
    "        Etiqueta de la classe predita per cada mostra.\n",
    "        \"\"\"\n",
    "        pred_proba = self.predict_proba(X)[:, 1]\n",
    "        return pred_proba.round().astype(np.int)\n",
    "\n",
    "\n",
    "def _sgd_update(data, indptr, indices, y, n_samples, n_features,\n",
    "                w0, w, v, n_factors, learning_rate, reg_w, reg_v):\n",
    "    \"\"\"\n",
    "     Calcula el valor de la pèrdua de la iteració actual i actualitza\n",
    "     els paràmetres amb els gradients.\n",
    "    \"\"\"\n",
    "    loss = 0.0\n",
    "    \n",
    "    for i in range(n_samples):\n",
    "        pred, summed = _predict_instance(data, indptr, indices, w0, w, v, n_factors, i)\n",
    "        # calcula la pèrdua i el seu gradient\n",
    "        loss += _log_loss(pred, y[i])\n",
    "        loss_gradient = -y[i] / (np.exp(y[i] * pred) + 1.0)\n",
    "    \n",
    "        # actualització el terme de biaix\n",
    "        w0 -= learning_rate * loss_gradient\n",
    "\n",
    "        # actualització els pesos\n",
    "        for index in range(indptr[i], indptr[i + 1]):\n",
    "            feature = indices[index]\n",
    "            w[feature] -= learning_rate * (loss_gradient * data[index] + 2 * reg_w * w[feature])\n",
    "\n",
    "        for factor in range(n_factors):\n",
    "            for index in range(indptr[i], indptr[i + 1]):\n",
    "                feature = indices[index]\n",
    "                term = summed[factor] - v[factor, feature] * data[index]\n",
    "                v_gradient = loss_gradient * data[index] * term\n",
    "                v[factor, feature] -= learning_rate * (v_gradient + 2 * reg_v * v[factor, feature])\n",
    "    \n",
    "    loss /= n_samples\n",
    "    return loss, w0\n",
    "\n",
    "\n",
    "def _predict_instance(data, indptr, indices, w0, w, v, n_factors, i):\n",
    "    \"\"\"prediu una mostra\"\"\"\n",
    "    summed = np.zeros(n_factors)\n",
    "    summed_squared = np.zeros(n_factors)\n",
    "\n",
    "    # w * x\n",
    "    pred = w0\n",
    "    for index in range(indptr[i], indptr[i + 1]):\n",
    "        feature = indices[index]\n",
    "        pred += w[feature] * data[index]\n",
    "\n",
    "    for factor in range(n_factors):\n",
    "        for index in range(indptr[i], indptr[i + 1]):\n",
    "            feature = indices[index]\n",
    "            term = v[factor, feature] * data[index]\n",
    "            summed[factor] += term\n",
    "            summed_squared[factor] += term * term\n",
    "\n",
    "        pred += 0.5 * (summed[factor] * summed[factor] - summed_squared[factor])\n",
    "    pred = math.tanh(pred)\n",
    "    # print(pred)\n",
    "    return pred, summed\n",
    "\n",
    "\n",
    "def _log_loss(pred, y):\n",
    "    \"\"\"\n",
    "    funció de pèrdua\n",
    "    \"\"\"\n",
    "    return np.log(np.exp(-pred * y) + 1.0)"
   ]
  },
  {
   "cell_type": "code",
   "execution_count": 40,
   "metadata": {},
   "outputs": [
    {
     "name": "stderr",
     "output_type": "stream",
     "text": [
      "100%|██████████████████████████████████████████████████████████████████████████████████| 50/50 [01:33<00:00,  1.88s/it]\n"
     ]
    },
    {
     "data": {
      "text/plain": [
       "FactorizationMachineClassifierNormalized(learning_rate=0.01, n_iter=50)"
      ]
     },
     "execution_count": 40,
     "metadata": {},
     "output_type": "execute_result"
    }
   ],
   "source": [
    "fm_norm = FactorizationMachineClassifierNormalized(n_iter = 50, learning_rate = 0.01)\n",
    "fm_norm.fit(X_train_dtm, y_train)"
   ]
  },
  {
   "cell_type": "code",
   "execution_count": 41,
   "metadata": {},
   "outputs": [
    {
     "data": {
      "image/png": "[encoded data removed]",
      "text/plain": [
       "<Figure size 800x600 with 1 Axes>"
      ]
     },
     "metadata": {},
     "output_type": "display_data"
    }
   ],
   "source": [
    "plt.rcParams['figure.figsize'] = 8, 6\n",
    "plt.rcParams['font.size'] = 12\n",
    "\n",
    "plt.plot(fm_norm.history_)\n",
    "plt.title('Loss Curve Per Iteration')\n",
    "plt.xlabel('Iterations')\n",
    "plt.ylabel('Loss')\n",
    "plt.show()"
   ]
  },
  {
   "cell_type": "markdown",
   "metadata": {},
   "source": [
    "Normalitzant el valor que retorna la funció de predicció a $(-1, +1)$, el mínim absolut que tindrá la funció de cost será  $\\ln(1/e + 1)= 0.3132$, que a cada label acertará amb el máxim grau de confiança $-1$ o $+1$ depenent de la label del missatge. El máxim será el contrari, és a dir, $\\ln(e + 1) = 1.31$ on sempre dirá el contrari amb la máxima confiança en la predicció."
   ]
  },
  {
   "cell_type": "markdown",
   "metadata": {},
   "source": [
    "# Pregunta 3"
   ]
  },
  {
   "cell_type": "markdown",
   "metadata": {},
   "source": [
    "3. Proposa una altra funció de pérdua (diferent a la que hi ha) que funcioni en aquest problema. Implementa-ho i calcula l'AUC score que aconsegueixes. "
   ]
  },
  {
   "cell_type": "markdown",
   "metadata": {},
   "source": [
    "*Escriu la teva resposta aquí*: \n",
    "\n",
    "Per aquest exercici, el primer que vaig tractar de fer és una funció de pérdua amb els labels de $\\{0, 1\\}$ i fer una implementació amb la *cross_entropy* vista a classe (d'aquí el nom de la classe). El problema surgeix quan el número que ens dona al fer la funció de predicció és un real i no una probabilitat de $0$ a $1$. Per tant, mirant funcions amb el Wolfram Alpha, vaig veure que simplemente $e^{-y_i \\cdot \\hat{y}(\\textbf{x}_i)}$ té el mateix domini i, al ser una funció contínua i derivable de classe $C^{\\infty}$, també ens serveix com a funció de pérdua per aquest problema. "
   ]
  },
  {
   "cell_type": "code",
   "execution_count": 194,
   "metadata": {},
   "outputs": [],
   "source": [
    "class FactorizationMachineClassifierCrossEntropy(BaseEstimator, ClassifierMixin):\n",
    "\n",
    "    def __init__(self, n_iter = 10, n_factors = 10,\n",
    "                 learning_rate = 0.1, reg_coef = 0.01,\n",
    "                 reg_factors = 0.01, random_state = 1234, verbose = True):\n",
    "        self.n_iter = n_iter\n",
    "        self.verbose = verbose\n",
    "        self.reg_coef = reg_coef\n",
    "        self.n_factors = n_factors\n",
    "        self.reg_factors = reg_factors\n",
    "        self.random_state = random_state\n",
    "        self.learning_rate = learning_rate\n",
    "\n",
    "    def fit(self, X, y):\n",
    "        \"\"\"\n",
    "        Fit the model to the input data and label.\n",
    "\n",
    "        Parameters\n",
    "        ----------\n",
    "        X : scipy sparse csr_matrix, shape [n_samples, n_features]\n",
    "            Data in sparse matrix format.\n",
    "\n",
    "        y : 1d ndarray, shape [n_samples,]\n",
    "            Training data's corresponding label.\n",
    "\n",
    "        Returns\n",
    "        -------\n",
    "        self\n",
    "        \"\"\"\n",
    "\n",
    "        n_samples, n_features = X.shape\n",
    "        self.coef_ = np.zeros(n_features)\n",
    "        self.intercept_ = 0.0\n",
    "\n",
    "         # els factors s'inicien amb una mitjana de 0 i una desviació estàndard\n",
    "         # d'1/sqrt \n",
    "        np.random.seed(self.random_state)\n",
    "        self.feature_factors_ = np.random.normal(\n",
    "            scale = 1 / np.sqrt(self.n_factors), size = (self.n_factors, n_features))\n",
    "        \n",
    "         # el gradient s'implementa d'una manera que requereix\n",
    "         # la classe negativa etiquetada com a -1 en lloc de 0 \n",
    "        y = y.copy().astype(np.int32)\n",
    "        y[y == -1] = -1 \n",
    "\n",
    "        loop = range(self.n_iter)\n",
    "        if self.verbose:\n",
    "            loop = trange(self.n_iter)\n",
    "\n",
    "        self.history_ = []\n",
    "        self.similarity = []\n",
    "        \n",
    "        for _ in loop:\n",
    "            loss, self.intercept_ = _sgd_update(X.data, X.indptr, X.indices,\n",
    "                               y, n_samples, n_features,\n",
    "                               self.intercept_, self.coef_,\n",
    "                               self.feature_factors_, self.n_factors,\n",
    "                               self.learning_rate, self.reg_coef, self.reg_factors)\n",
    "            self.history_.append(loss)\n",
    "            \n",
    "        return self\n",
    "\n",
    "    def predict_proba(self, X):\n",
    "        \"\"\"\n",
    "         Estimacions de probabilitat. Les estimacions retornades per\n",
    "         totes les classes estan ordenades per l'etiqueta de classes.\n",
    "\n",
    "         Paràmetres\n",
    "        ---------\n",
    "        X : scipy sparse csr_matrix, shape [n_samples, n_features]\n",
    "            Dades en format de matriu dispersa.\n",
    "\n",
    "        Returns\n",
    "        -------\n",
    "        proba : 2d ndarray, shape [n_samples, n_classes]\n",
    "            La probabilitat de la mostra per a cada classe del model.\n",
    "        \"\"\"\n",
    "        pred = self._predict(X)\n",
    "        pred_proba = 1.0 / (1.0 + np.exp(-pred))\n",
    "        proba = np.vstack((1 - pred_proba, pred_proba)).T\n",
    "        return proba\n",
    "\n",
    "    def _predict(self, X):\n",
    "        \"\"\"Similar a _predict_instance però vectoritzat per a totes les mostres\"\"\"\n",
    "        linear_output = X * self.coef_\n",
    "        v = self.feature_factors_.T\n",
    "        term = (X * v) ** 2 - (X.power(2) * (v ** 2))\n",
    "        factor_output = 0.5 * np.sum(term, axis = 1)\n",
    "        return self.intercept_ + linear_output + factor_output\n",
    "\n",
    "    def predict(self, X):\n",
    "        \"\"\"\n",
    "        Prediu les etiquetes de classe per a mostres a X.\n",
    "\n",
    "        Parametres\n",
    "        ----------\n",
    "        X : scipy sparse csr_matrix, shape [n_samples, n_features]\n",
    "            Dades en format de matriu dispersa.\n",
    "\n",
    "        Returns\n",
    "        -------\n",
    "        Etiqueta de la classe predita per cada mostra.\n",
    "        \"\"\"\n",
    "        pred_proba = self.predict_proba(X)[:, 1]\n",
    "        return pred_proba.round().astype(np.int)\n",
    "\n",
    "\n",
    "def _sgd_update(data, indptr, indices, y, n_samples, n_features,\n",
    "                w0, w, v, n_factors, learning_rate, reg_w, reg_v):\n",
    "    \"\"\"\n",
    "     Calcula el valor de la pèrdua de la iteració actual i actualitza\n",
    "     els paràmetres amb els gradients.\n",
    "    \"\"\"\n",
    "    loss = 0.0\n",
    "    \n",
    "    for i in range(n_samples):\n",
    "        pred, summed = _predict_instance(data, indptr, indices, w0, w, v, n_factors, i)\n",
    "        # calcula la pèrdua i el seu gradient\n",
    "        loss += _log_loss(pred, y[i])\n",
    "        #loss_gradient = -y[i] / (np.exp(y[i] * pred) + 1.0)\n",
    "        # loss_gradient = - (np.exp(pred) * (y[i] - 1) + y[i]) / (np.exp(pred) + 1)\n",
    "        # loss_gradient = y[i]*pred**(y[i]*pred)*(np.log(pred)+1)\n",
    "        loss_gradient = y[i]*(-np.exp(-pred*y[i]))\n",
    "        # actualització el terme de biaix\n",
    "        w0 -= learning_rate * loss_gradient\n",
    "\n",
    "        # actualització els pesos\n",
    "        for index in range(indptr[i], indptr[i + 1]):\n",
    "            feature = indices[index]\n",
    "            w[feature] -= learning_rate * (loss_gradient * data[index] + 2 * reg_w * w[feature])\n",
    "\n",
    "        for factor in range(n_factors):\n",
    "            for index in range(indptr[i], indptr[i + 1]):\n",
    "                feature = indices[index]\n",
    "                term = summed[factor] - v[factor, feature] * data[index]\n",
    "                v_gradient = loss_gradient * data[index] * term\n",
    "                v[factor, feature] -= learning_rate * (v_gradient + 2 * reg_v * v[factor, feature])\n",
    "    \n",
    "    loss /= n_samples\n",
    "    return loss, w0\n",
    "\n",
    "\n",
    "def _predict_instance(data, indptr, indices, w0, w, v, n_factors, i):\n",
    "    \"\"\"prediu una mostra\"\"\"\n",
    "    summed = np.zeros(n_factors)\n",
    "    summed_squared = np.zeros(n_factors)\n",
    "\n",
    "    # w * x\n",
    "    pred = w0\n",
    "    for index in range(indptr[i], indptr[i + 1]):\n",
    "        feature = indices[index]\n",
    "        pred += w[feature] * data[index]\n",
    "\n",
    "    for factor in range(n_factors):\n",
    "        for index in range(indptr[i], indptr[i + 1]):\n",
    "            feature = indices[index]\n",
    "            term = v[factor, feature] * data[index]\n",
    "            summed[factor] += term\n",
    "            summed_squared[factor] += term * term\n",
    "\n",
    "        pred += 0.5 * (summed[factor] * summed[factor] - summed_squared[factor])\n",
    "    return pred, summed\n",
    "\n",
    "\n",
    "def _log_loss(pred, y):\n",
    "    \"\"\"\n",
    "    funció de pèrdua\n",
    "    \"\"\"\n",
    "    # return y*np.log(np.exp(-pred) + 1) + (1 - y)*np.log(np.exp(pred) + 1)\n",
    "    # return np.log(np.exp(-pred * y) + 1.0)\n",
    "    return np.exp(-pred*y)"
   ]
  },
  {
   "cell_type": "code",
   "execution_count": 195,
   "metadata": {
    "scrolled": true
   },
   "outputs": [
    {
     "name": "stderr",
     "output_type": "stream",
     "text": [
      "100%|██████████████████████████████████████████████████████████████████████████████████| 50/50 [01:16<00:00,  1.52s/it]\n"
     ]
    },
    {
     "data": {
      "text/plain": [
       "FactorizationMachineClassifierCrossEntropy(n_iter=50)"
      ]
     },
     "execution_count": 195,
     "metadata": {},
     "output_type": "execute_result"
    }
   ],
   "source": [
    "fm2 = FactorizationMachineClassifierCrossEntropy(n_iter = 50, learning_rate = 0.1)\n",
    "fm2.fit(X_train_dtm, y_train)"
   ]
  },
  {
   "cell_type": "code",
   "execution_count": 196,
   "metadata": {},
   "outputs": [
    {
     "data": {
      "image/png": "[encoded data removed]",
      "text/plain": [
       "<Figure size 800x600 with 1 Axes>"
      ]
     },
     "metadata": {},
     "output_type": "display_data"
    }
   ],
   "source": [
    "plt.rcParams['figure.figsize'] = 8, 6\n",
    "plt.rcParams['font.size'] = 12\n",
    "\n",
    "plt.plot(fm2.history_)\n",
    "plt.title('Loss Curve Per Iteration')\n",
    "plt.xlabel('Iterations')\n",
    "plt.ylabel('Loss')\n",
    "plt.show()"
   ]
  },
  {
   "cell_type": "code",
   "execution_count": 199,
   "metadata": {},
   "outputs": [
    {
     "name": "stdout",
     "output_type": "stream",
     "text": [
      "AUC 0.9944424557007338\n"
     ]
    }
   ],
   "source": [
    "# predicció del conjunt de tets i càlcul de l'\"auc score\"\n",
    "y_pred_prob = fm2.predict_proba(X_test_dtm)[:, 1]\n",
    "auc = roc_auc_score(y_test, y_pred_prob)\n",
    "print('AUC', auc)"
   ]
  },
  {
   "cell_type": "code",
   "execution_count": 200,
   "metadata": {},
   "outputs": [
    {
     "data": {
      "text/plain": [
       "0.04677818012764777"
      ]
     },
     "execution_count": 200,
     "metadata": {},
     "output_type": "execute_result"
    }
   ],
   "source": [
    "fm2.history_[49]"
   ]
  }
 ],
 "metadata": {
  "colab": {
   "collapsed_sections": [],
   "name": "factorization_machine.ipynb",
   "provenance": []
  },
  "kernelspec": {
   "display_name": "Python 3",
   "language": "python",
   "name": "python3"
  },
  "language_info": {
   "codemirror_mode": {
    "name": "ipython",
    "version": 3
   },
   "file_extension": ".py",
   "mimetype": "text/x-python",
   "name": "python",
   "nbconvert_exporter": "python",
   "pygments_lexer": "ipython3",
   "version": "3.8.11"
  },
  "toc": {
   "nav_menu": {
    "height": "12px",
    "width": "252px"
   },
   "number_sections": true,
   "sideBar": true,
   "skip_h1_title": false,
   "title_cell": "Table of Contents",
   "title_sidebar": "Contents",
   "toc_cell": true,
   "toc_position": {},
   "toc_section_display": "block",
   "toc_window_display": true
  },
  "varInspector": {
   "cols": {
    "lenName": 16,
    "lenType": 16,
    "lenVar": 40
   },
   "kernels_config": {
    "python": {
     "delete_cmd_postfix": "",
     "delete_cmd_prefix": "del ",
     "library": "var_list.py",
     "varRefreshCmd": "print(var_dic_list())"
    },
    "r": {
     "delete_cmd_postfix": ") ",
     "delete_cmd_prefix": "rm(",
     "library": "var_list.r",
     "varRefreshCmd": "cat(var_dic_list()) "
    }
   },
   "types_to_exclude": [
    "module",
    "function",
    "builtin_function_or_method",
    "instance",
    "_Feature"
   ],
   "window_display": false
  }
 },
 "nbformat": 4,
 "nbformat_minor": 4
}
